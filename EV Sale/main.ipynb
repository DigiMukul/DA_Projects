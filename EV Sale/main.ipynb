{
 "cells": [
  {
   "cell_type": "markdown",
   "id": "896b749a",
   "metadata": {},
   "source": [
    "# Importing python library"
   ]
  },
  {
   "cell_type": "code",
   "execution_count": 1,
   "id": "7471a74f",
   "metadata": {},
   "outputs": [],
   "source": [
    "import pandas as pd\n",
    "import numpy as np\n",
    "import matplotlib.pyplot as plt"
   ]
  },
  {
   "cell_type": "markdown",
   "id": "820ba6a8",
   "metadata": {},
   "source": [
    "# Reading dataset"
   ]
  },
  {
   "cell_type": "code",
   "execution_count": 2,
   "id": "b822dd21",
   "metadata": {},
   "outputs": [],
   "source": [
    "df = pd.read_csv(\"C:\\\\Users\\\\91639\\\\Downloads\\\\EV.csv\")"
   ]
  },
  {
   "cell_type": "code",
   "execution_count": 3,
   "id": "164a400a",
   "metadata": {
    "scrolled": true
   },
   "outputs": [
    {
     "data": {
      "text/html": [
       "<div>\n",
       "<style scoped>\n",
       "    .dataframe tbody tr th:only-of-type {\n",
       "        vertical-align: middle;\n",
       "    }\n",
       "\n",
       "    .dataframe tbody tr th {\n",
       "        vertical-align: top;\n",
       "    }\n",
       "\n",
       "    .dataframe thead th {\n",
       "        text-align: right;\n",
       "    }\n",
       "</style>\n",
       "<table border=\"1\" class=\"dataframe\">\n",
       "  <thead>\n",
       "    <tr style=\"text-align: right;\">\n",
       "      <th></th>\n",
       "      <th>region</th>\n",
       "      <th>category</th>\n",
       "      <th>parameter</th>\n",
       "      <th>mode</th>\n",
       "      <th>powertrain</th>\n",
       "      <th>year</th>\n",
       "      <th>unit</th>\n",
       "      <th>value</th>\n",
       "    </tr>\n",
       "  </thead>\n",
       "  <tbody>\n",
       "    <tr>\n",
       "      <th>0</th>\n",
       "      <td>Australia</td>\n",
       "      <td>Historical</td>\n",
       "      <td>EV sales</td>\n",
       "      <td>Cars</td>\n",
       "      <td>BEV</td>\n",
       "      <td>2011</td>\n",
       "      <td>Vehicles</td>\n",
       "      <td>49.00000</td>\n",
       "    </tr>\n",
       "    <tr>\n",
       "      <th>1</th>\n",
       "      <td>Australia</td>\n",
       "      <td>Historical</td>\n",
       "      <td>EV stock</td>\n",
       "      <td>Cars</td>\n",
       "      <td>BEV</td>\n",
       "      <td>2011</td>\n",
       "      <td>Vehicles</td>\n",
       "      <td>49.00000</td>\n",
       "    </tr>\n",
       "    <tr>\n",
       "      <th>2</th>\n",
       "      <td>Australia</td>\n",
       "      <td>Historical</td>\n",
       "      <td>EV sales share</td>\n",
       "      <td>Cars</td>\n",
       "      <td>EV</td>\n",
       "      <td>2011</td>\n",
       "      <td>percent</td>\n",
       "      <td>0.00650</td>\n",
       "    </tr>\n",
       "    <tr>\n",
       "      <th>3</th>\n",
       "      <td>Australia</td>\n",
       "      <td>Historical</td>\n",
       "      <td>EV stock share</td>\n",
       "      <td>Cars</td>\n",
       "      <td>EV</td>\n",
       "      <td>2011</td>\n",
       "      <td>percent</td>\n",
       "      <td>0.00046</td>\n",
       "    </tr>\n",
       "    <tr>\n",
       "      <th>4</th>\n",
       "      <td>Australia</td>\n",
       "      <td>Historical</td>\n",
       "      <td>EV stock share</td>\n",
       "      <td>Cars</td>\n",
       "      <td>EV</td>\n",
       "      <td>2012</td>\n",
       "      <td>percent</td>\n",
       "      <td>0.00280</td>\n",
       "    </tr>\n",
       "  </tbody>\n",
       "</table>\n",
       "</div>"
      ],
      "text/plain": [
       "      region    category       parameter  mode powertrain  year      unit   \n",
       "0  Australia  Historical        EV sales  Cars        BEV  2011  Vehicles  \\\n",
       "1  Australia  Historical        EV stock  Cars        BEV  2011  Vehicles   \n",
       "2  Australia  Historical  EV sales share  Cars         EV  2011   percent   \n",
       "3  Australia  Historical  EV stock share  Cars         EV  2011   percent   \n",
       "4  Australia  Historical  EV stock share  Cars         EV  2012   percent   \n",
       "\n",
       "      value  \n",
       "0  49.00000  \n",
       "1  49.00000  \n",
       "2   0.00650  \n",
       "3   0.00046  \n",
       "4   0.00280  "
      ]
     },
     "execution_count": 3,
     "metadata": {},
     "output_type": "execute_result"
    }
   ],
   "source": [
    "df.head()"
   ]
  },
  {
   "cell_type": "code",
   "execution_count": 4,
   "id": "27e488e6",
   "metadata": {},
   "outputs": [
    {
     "data": {
      "text/html": [
       "<div>\n",
       "<style scoped>\n",
       "    .dataframe tbody tr th:only-of-type {\n",
       "        vertical-align: middle;\n",
       "    }\n",
       "\n",
       "    .dataframe tbody tr th {\n",
       "        vertical-align: top;\n",
       "    }\n",
       "\n",
       "    .dataframe thead th {\n",
       "        text-align: right;\n",
       "    }\n",
       "</style>\n",
       "<table border=\"1\" class=\"dataframe\">\n",
       "  <thead>\n",
       "    <tr style=\"text-align: right;\">\n",
       "      <th></th>\n",
       "      <th>region</th>\n",
       "      <th>category</th>\n",
       "      <th>parameter</th>\n",
       "      <th>mode</th>\n",
       "      <th>powertrain</th>\n",
       "      <th>year</th>\n",
       "      <th>unit</th>\n",
       "      <th>value</th>\n",
       "    </tr>\n",
       "  </thead>\n",
       "  <tbody>\n",
       "    <tr>\n",
       "      <th>10074</th>\n",
       "      <td>World</td>\n",
       "      <td>Projection-APS</td>\n",
       "      <td>EV sales share</td>\n",
       "      <td>Vans</td>\n",
       "      <td>EV</td>\n",
       "      <td>2030</td>\n",
       "      <td>percent</td>\n",
       "      <td>30.0</td>\n",
       "    </tr>\n",
       "    <tr>\n",
       "      <th>10075</th>\n",
       "      <td>World</td>\n",
       "      <td>Projection-APS</td>\n",
       "      <td>EV stock share</td>\n",
       "      <td>Vans</td>\n",
       "      <td>EV</td>\n",
       "      <td>2030</td>\n",
       "      <td>percent</td>\n",
       "      <td>8.0</td>\n",
       "    </tr>\n",
       "    <tr>\n",
       "      <th>10076</th>\n",
       "      <td>World</td>\n",
       "      <td>Projection-APS</td>\n",
       "      <td>EV sales share</td>\n",
       "      <td>Cars</td>\n",
       "      <td>EV</td>\n",
       "      <td>2030</td>\n",
       "      <td>percent</td>\n",
       "      <td>41.0</td>\n",
       "    </tr>\n",
       "    <tr>\n",
       "      <th>10077</th>\n",
       "      <td>World</td>\n",
       "      <td>Projection-APS</td>\n",
       "      <td>EV stock share</td>\n",
       "      <td>Cars</td>\n",
       "      <td>EV</td>\n",
       "      <td>2030</td>\n",
       "      <td>percent</td>\n",
       "      <td>15.0</td>\n",
       "    </tr>\n",
       "    <tr>\n",
       "      <th>10078</th>\n",
       "      <td>World</td>\n",
       "      <td>Projection-APS</td>\n",
       "      <td>EV stock share</td>\n",
       "      <td>Trucks</td>\n",
       "      <td>EV</td>\n",
       "      <td>2030</td>\n",
       "      <td>percent</td>\n",
       "      <td>4.0</td>\n",
       "    </tr>\n",
       "  </tbody>\n",
       "</table>\n",
       "</div>"
      ],
      "text/plain": [
       "      region        category       parameter    mode powertrain  year   \n",
       "10074  World  Projection-APS  EV sales share    Vans         EV  2030  \\\n",
       "10075  World  Projection-APS  EV stock share    Vans         EV  2030   \n",
       "10076  World  Projection-APS  EV sales share    Cars         EV  2030   \n",
       "10077  World  Projection-APS  EV stock share    Cars         EV  2030   \n",
       "10078  World  Projection-APS  EV stock share  Trucks         EV  2030   \n",
       "\n",
       "          unit  value  \n",
       "10074  percent   30.0  \n",
       "10075  percent    8.0  \n",
       "10076  percent   41.0  \n",
       "10077  percent   15.0  \n",
       "10078  percent    4.0  "
      ]
     },
     "execution_count": 4,
     "metadata": {},
     "output_type": "execute_result"
    }
   ],
   "source": [
    "df.tail()"
   ]
  },
  {
   "cell_type": "code",
   "execution_count": 5,
   "id": "cbdf9616",
   "metadata": {},
   "outputs": [
    {
     "data": {
      "text/plain": [
       "Index(['region', 'category', 'parameter', 'mode', 'powertrain', 'year', 'unit',\n",
       "       'value'],\n",
       "      dtype='object')"
      ]
     },
     "execution_count": 5,
     "metadata": {},
     "output_type": "execute_result"
    }
   ],
   "source": [
    "df.columns"
   ]
  },
  {
   "cell_type": "code",
   "execution_count": 6,
   "id": "5e1687f3",
   "metadata": {},
   "outputs": [
    {
     "name": "stdout",
     "output_type": "stream",
     "text": [
      "<class 'pandas.core.frame.DataFrame'>\n",
      "RangeIndex: 10079 entries, 0 to 10078\n",
      "Data columns (total 8 columns):\n",
      " #   Column      Non-Null Count  Dtype  \n",
      "---  ------      --------------  -----  \n",
      " 0   region      10079 non-null  object \n",
      " 1   category    10079 non-null  object \n",
      " 2   parameter   10079 non-null  object \n",
      " 3   mode        10079 non-null  object \n",
      " 4   powertrain  10079 non-null  object \n",
      " 5   year        10079 non-null  int64  \n",
      " 6   unit        10079 non-null  object \n",
      " 7   value       10079 non-null  float64\n",
      "dtypes: float64(1), int64(1), object(6)\n",
      "memory usage: 630.1+ KB\n"
     ]
    }
   ],
   "source": [
    "df.info()\n"
   ]
  },
  {
   "cell_type": "markdown",
   "id": "0f229696",
   "metadata": {},
   "source": [
    "## Unique Value in a column"
   ]
  },
  {
   "cell_type": "code",
   "execution_count": 7,
   "id": "8e704ca3",
   "metadata": {
    "scrolled": true
   },
   "outputs": [
    {
     "name": "stdout",
     "output_type": "stream",
     "text": [
      "['Australia' 'Austria' 'Belgium' 'Brazil' 'Canada' 'Chile' 'China'\n",
      " 'Denmark' 'EU27' 'Europe' 'Finland' 'France' 'Germany' 'Greece' 'Iceland'\n",
      " 'India' 'Indonesia' 'Israel' 'Italy' 'Japan' 'Korea' 'Mexico'\n",
      " 'Netherlands' 'New Zealand' 'Norway' 'Other Europe' 'Poland' 'Portugal'\n",
      " 'Rest of the world' 'South Africa' 'Spain' 'Sweden' 'Switzerland'\n",
      " 'Thailand' 'Turkiye' 'United Kingdom' 'USA' 'World']\n"
     ]
    }
   ],
   "source": [
    "print(df['region'].unique())"
   ]
  },
  {
   "cell_type": "code",
   "execution_count": 8,
   "id": "da85a93f",
   "metadata": {},
   "outputs": [
    {
     "name": "stdout",
     "output_type": "stream",
     "text": [
      "['Historical' 'Projection-STEPS' 'Projection-APS']\n"
     ]
    }
   ],
   "source": [
    "print(df['category'].unique())"
   ]
  },
  {
   "cell_type": "code",
   "execution_count": 9,
   "id": "1ca8dfdb",
   "metadata": {},
   "outputs": [
    {
     "name": "stdout",
     "output_type": "stream",
     "text": [
      "['EV sales' 'EV stock' 'EV sales share' 'EV stock share'\n",
      " 'EV charging points' 'Electricity demand' 'Oil displacement Mbd'\n",
      " 'Oil displacement, million lge']\n"
     ]
    }
   ],
   "source": [
    "print(df['parameter'].unique())"
   ]
  },
  {
   "cell_type": "code",
   "execution_count": 10,
   "id": "fb36f711",
   "metadata": {},
   "outputs": [
    {
     "name": "stdout",
     "output_type": "stream",
     "text": [
      "['Cars' 'EV' 'Buses' 'Vans' 'Trucks']\n"
     ]
    }
   ],
   "source": [
    "print(df['mode'].unique())"
   ]
  },
  {
   "cell_type": "code",
   "execution_count": 11,
   "id": "1d4766f1",
   "metadata": {},
   "outputs": [
    {
     "name": "stdout",
     "output_type": "stream",
     "text": [
      "['BEV' 'EV' 'PHEV' 'Publicly available fast' 'Publicly available slow']\n"
     ]
    }
   ],
   "source": [
    "print(df['powertrain'].unique())"
   ]
  },
  {
   "cell_type": "code",
   "execution_count": 12,
   "id": "a6e577d6",
   "metadata": {
    "tags": []
   },
   "outputs": [
    {
     "name": "stdout",
     "output_type": "stream",
     "text": [
      "[2011 2012 2013 2014 2015 2016 2017 2018 2019 2020 2021 2022 2010 2025\n",
      " 2030]\n"
     ]
    }
   ],
   "source": [
    "print(df['year'].unique())"
   ]
  },
  {
   "cell_type": "code",
   "execution_count": 13,
   "id": "626fd600-e8ac-42e5-a5fa-91455a9d4681",
   "metadata": {},
   "outputs": [
    {
     "data": {
      "text/plain": [
       "(10079, 8)"
      ]
     },
     "execution_count": 13,
     "metadata": {},
     "output_type": "execute_result"
    }
   ],
   "source": [
    "df.shape"
   ]
  },
  {
   "cell_type": "code",
   "execution_count": 14,
   "id": "79faad7e",
   "metadata": {
    "scrolled": true
   },
   "outputs": [
    {
     "name": "stdout",
     "output_type": "stream",
     "text": [
      "['Vehicles' 'percent' 'charging points' 'GWh' 'Milion barrels per day'\n",
      " 'Oil displacement, million lge']\n"
     ]
    }
   ],
   "source": [
    "print(df['unit'].unique())"
   ]
  },
  {
   "cell_type": "code",
   "execution_count": 15,
   "id": "54c6aee5",
   "metadata": {},
   "outputs": [
    {
     "data": {
      "text/html": [
       "<div>\n",
       "<style scoped>\n",
       "    .dataframe tbody tr th:only-of-type {\n",
       "        vertical-align: middle;\n",
       "    }\n",
       "\n",
       "    .dataframe tbody tr th {\n",
       "        vertical-align: top;\n",
       "    }\n",
       "\n",
       "    .dataframe thead th {\n",
       "        text-align: right;\n",
       "    }\n",
       "</style>\n",
       "<table border=\"1\" class=\"dataframe\">\n",
       "  <thead>\n",
       "    <tr style=\"text-align: right;\">\n",
       "      <th></th>\n",
       "      <th>year</th>\n",
       "      <th>value</th>\n",
       "    </tr>\n",
       "  </thead>\n",
       "  <tbody>\n",
       "    <tr>\n",
       "      <th>count</th>\n",
       "      <td>10079.000000</td>\n",
       "      <td>1.007900e+04</td>\n",
       "    </tr>\n",
       "    <tr>\n",
       "      <th>mean</th>\n",
       "      <td>2018.158349</td>\n",
       "      <td>2.208715e+05</td>\n",
       "    </tr>\n",
       "    <tr>\n",
       "      <th>std</th>\n",
       "      <td>4.593641</td>\n",
       "      <td>3.259770e+06</td>\n",
       "    </tr>\n",
       "    <tr>\n",
       "      <th>min</th>\n",
       "      <td>2010.000000</td>\n",
       "      <td>1.100000e-06</td>\n",
       "    </tr>\n",
       "    <tr>\n",
       "      <th>25%</th>\n",
       "      <td>2015.000000</td>\n",
       "      <td>6.700000e-01</td>\n",
       "    </tr>\n",
       "    <tr>\n",
       "      <th>50%</th>\n",
       "      <td>2018.000000</td>\n",
       "      <td>6.300000e+01</td>\n",
       "    </tr>\n",
       "    <tr>\n",
       "      <th>75%</th>\n",
       "      <td>2021.000000</td>\n",
       "      <td>3.400000e+03</td>\n",
       "    </tr>\n",
       "    <tr>\n",
       "      <th>max</th>\n",
       "      <td>2030.000000</td>\n",
       "      <td>1.800000e+08</td>\n",
       "    </tr>\n",
       "  </tbody>\n",
       "</table>\n",
       "</div>"
      ],
      "text/plain": [
       "               year         value\n",
       "count  10079.000000  1.007900e+04\n",
       "mean    2018.158349  2.208715e+05\n",
       "std        4.593641  3.259770e+06\n",
       "min     2010.000000  1.100000e-06\n",
       "25%     2015.000000  6.700000e-01\n",
       "50%     2018.000000  6.300000e+01\n",
       "75%     2021.000000  3.400000e+03\n",
       "max     2030.000000  1.800000e+08"
      ]
     },
     "execution_count": 15,
     "metadata": {},
     "output_type": "execute_result"
    }
   ],
   "source": [
    "df.describe()"
   ]
  },
  {
   "cell_type": "code",
   "execution_count": 16,
   "id": "d7acbe09",
   "metadata": {},
   "outputs": [
    {
     "data": {
      "text/plain": [
       "region        0\n",
       "category      0\n",
       "parameter     0\n",
       "mode          0\n",
       "powertrain    0\n",
       "year          0\n",
       "unit          0\n",
       "value         0\n",
       "dtype: int64"
      ]
     },
     "execution_count": 16,
     "metadata": {},
     "output_type": "execute_result"
    }
   ],
   "source": [
    "df.isna().sum()"
   ]
  },
  {
   "cell_type": "code",
   "execution_count": 17,
   "id": "1aa388f2-73a6-4a41-b283-0740e765bfc7",
   "metadata": {},
   "outputs": [
    {
     "data": {
      "text/plain": [
       "Index(['region', 'category', 'parameter', 'mode', 'powertrain', 'year', 'unit',\n",
       "       'value'],\n",
       "      dtype='object')"
      ]
     },
     "execution_count": 17,
     "metadata": {},
     "output_type": "execute_result"
    }
   ],
   "source": [
    "df.columns"
   ]
  },
  {
   "cell_type": "code",
   "execution_count": 18,
   "id": "5de714f4",
   "metadata": {},
   "outputs": [],
   "source": [
    "Ev_sales=df.loc[df['parameter'] == 'EV sales']\n",
    "Ev_sale = Ev_sales.loc[Ev_sales['category']=='Historical']\n",
    "world_Ev_sale=Ev_sale.loc[Ev_sale['region']=='World']\n",
    "world = world_Ev_sale.groupby('year')['value'].sum()\n"
   ]
  },
  {
   "cell_type": "code",
   "execution_count": 19,
   "id": "ec00de12-f66b-4da9-8345-2a8f9e251e03",
   "metadata": {},
   "outputs": [],
   "source": [
    "world=pd.DataFrame(world)\n",
    "world.reset_index(inplace=True)\n"
   ]
  },
  {
   "cell_type": "code",
   "execution_count": 20,
   "id": "25b7b6ac",
   "metadata": {},
   "outputs": [
    {
     "data": {
      "image/png": "[encoded data removed]",
      "text/plain": [
       "<Figure size 640x480 with 1 Axes>"
      ]
     },
     "metadata": {},
     "output_type": "display_data"
    }
   ],
   "source": [
    "plt.title(\"Year wise sales of electric vechile\")\n",
    "plt.bar('year','value',data=world)\n",
    "plt.show()\n"
   ]
  },
  {
   "cell_type": "code",
   "execution_count": null,
   "id": "ee66f572-7fb1-419d-8378-df9752f44919",
   "metadata": {},
   "outputs": [],
   "source": []
  },
  {
   "cell_type": "code",
   "execution_count": 21,
   "id": "dddb2d28-5b42-40a8-a175-783a7dbbefa8",
   "metadata": {},
   "outputs": [],
   "source": [
    "car=world_Ev_sale.loc[world_Ev_sale['mode']=='Cars']\n",
    "bev =car.loc[car['powertrain']=='BEV'] \n",
    "phev =car.loc[car['powertrain']=='PHEV']"
   ]
  },
  {
   "cell_type": "code",
   "execution_count": 30,
   "id": "aa7639d3-bbe2-4662-a217-74e8022ae41e",
   "metadata": {},
   "outputs": [
    {
     "data": {
      "text/html": [
       "<div>\n",
       "<style scoped>\n",
       "    .dataframe tbody tr th:only-of-type {\n",
       "        vertical-align: middle;\n",
       "    }\n",
       "\n",
       "    .dataframe tbody tr th {\n",
       "        vertical-align: top;\n",
       "    }\n",
       "\n",
       "    .dataframe thead th {\n",
       "        text-align: right;\n",
       "    }\n",
       "</style>\n",
       "<table border=\"1\" class=\"dataframe\">\n",
       "  <thead>\n",
       "    <tr style=\"text-align: right;\">\n",
       "      <th></th>\n",
       "      <th>region</th>\n",
       "      <th>category</th>\n",
       "      <th>parameter</th>\n",
       "      <th>mode</th>\n",
       "      <th>powertrain</th>\n",
       "      <th>year</th>\n",
       "      <th>unit</th>\n",
       "      <th>value</th>\n",
       "    </tr>\n",
       "  </thead>\n",
       "  <tbody>\n",
       "    <tr>\n",
       "      <th>9165</th>\n",
       "      <td>World</td>\n",
       "      <td>Historical</td>\n",
       "      <td>EV sales</td>\n",
       "      <td>Cars</td>\n",
       "      <td>BEV</td>\n",
       "      <td>2010</td>\n",
       "      <td>Vehicles</td>\n",
       "      <td>7200.0</td>\n",
       "    </tr>\n",
       "    <tr>\n",
       "      <th>9167</th>\n",
       "      <td>World</td>\n",
       "      <td>Historical</td>\n",
       "      <td>EV sales</td>\n",
       "      <td>Cars</td>\n",
       "      <td>PHEV</td>\n",
       "      <td>2010</td>\n",
       "      <td>Vehicles</td>\n",
       "      <td>370.0</td>\n",
       "    </tr>\n",
       "    <tr>\n",
       "      <th>9194</th>\n",
       "      <td>World</td>\n",
       "      <td>Historical</td>\n",
       "      <td>EV sales</td>\n",
       "      <td>Cars</td>\n",
       "      <td>PHEV</td>\n",
       "      <td>2011</td>\n",
       "      <td>Vehicles</td>\n",
       "      <td>9000.0</td>\n",
       "    </tr>\n",
       "    <tr>\n",
       "      <th>9196</th>\n",
       "      <td>World</td>\n",
       "      <td>Historical</td>\n",
       "      <td>EV sales</td>\n",
       "      <td>Cars</td>\n",
       "      <td>BEV</td>\n",
       "      <td>2011</td>\n",
       "      <td>Vehicles</td>\n",
       "      <td>39000.0</td>\n",
       "    </tr>\n",
       "    <tr>\n",
       "      <th>9253</th>\n",
       "      <td>World</td>\n",
       "      <td>Historical</td>\n",
       "      <td>EV sales</td>\n",
       "      <td>Cars</td>\n",
       "      <td>BEV</td>\n",
       "      <td>2012</td>\n",
       "      <td>Vehicles</td>\n",
       "      <td>58000.0</td>\n",
       "    </tr>\n",
       "  </tbody>\n",
       "</table>\n",
       "</div>"
      ],
      "text/plain": [
       "     region    category parameter  mode powertrain  year      unit    value\n",
       "9165  World  Historical  EV sales  Cars        BEV  2010  Vehicles   7200.0\n",
       "9167  World  Historical  EV sales  Cars       PHEV  2010  Vehicles    370.0\n",
       "9194  World  Historical  EV sales  Cars       PHEV  2011  Vehicles   9000.0\n",
       "9196  World  Historical  EV sales  Cars        BEV  2011  Vehicles  39000.0\n",
       "9253  World  Historical  EV sales  Cars        BEV  2012  Vehicles  58000.0"
      ]
     },
     "execution_count": 30,
     "metadata": {},
     "output_type": "execute_result"
    }
   ],
   "source": [
    "car[:5]"
   ]
  },
  {
   "cell_type": "code",
   "execution_count": 23,
   "id": "cbbb66c7",
   "metadata": {},
   "outputs": [
    {
     "data": {
      "image/png": "[encoded data removed]",
      "text/plain": [
       "<Figure size 640x480 with 2 Axes>"
      ]
     },
     "metadata": {},
     "output_type": "display_data"
    }
   ],
   "source": [
    "plt.subplot(1,2,1)\n",
    "plt.title('Hybrid Electric Vechiles')\n",
    "plt.xlabel('Year')\n",
    "plt.ylabel('Number of vechiles')\n",
    "plt.bar('year','value',data=phev)\n",
    "plt.subplot(1,2,2)\n",
    "plt.title('Electric Vechiles')\n",
    "plt.xlabel('Year')\n",
    "plt.ylabel('Number of vechiles')\n",
    "plt.bar('year','value',data=bev)\n",
    "plt.show()\n",
    "\n",
    "\n"
   ]
  },
  {
   "cell_type": "code",
   "execution_count": 24,
   "id": "d992f676-5d3a-426a-b6ca-9ac53d0d508d",
   "metadata": {},
   "outputs": [
    {
     "data": {
      "image/png": "[encoded data removed]",
      "text/plain": [
       "<Figure size 640x480 with 1 Axes>"
      ]
     },
     "metadata": {},
     "output_type": "display_data"
    }
   ],
   "source": [
    "plt.pie('value',labels='year',data=bev,radius=2)\n",
    "plt.show()"
   ]
  },
  {
   "cell_type": "code",
   "execution_count": 25,
   "id": "aef28bde-d8cd-4ac3-a272-8933d6af2e87",
   "metadata": {},
   "outputs": [],
   "source": [
    "Ev=df.loc[df['parameter'] == 'EV charging points']\n",
    "Ev_s = Ev.loc[Ev['category']=='Projection-STEPS']\n",
    "charg=Ev_s.loc[Ev_s['region']=='World']"
   ]
  },
  {
   "cell_type": "code",
   "execution_count": 26,
   "id": "bfaaf3b8-6b25-4ab6-920d-5fc91cb970e9",
   "metadata": {},
   "outputs": [
    {
     "data": {
      "text/html": [
       "<div>\n",
       "<style scoped>\n",
       "    .dataframe tbody tr th:only-of-type {\n",
       "        vertical-align: middle;\n",
       "    }\n",
       "\n",
       "    .dataframe tbody tr th {\n",
       "        vertical-align: top;\n",
       "    }\n",
       "\n",
       "    .dataframe thead th {\n",
       "        text-align: right;\n",
       "    }\n",
       "</style>\n",
       "<table border=\"1\" class=\"dataframe\">\n",
       "  <thead>\n",
       "    <tr style=\"text-align: right;\">\n",
       "      <th></th>\n",
       "      <th>year</th>\n",
       "      <th>region</th>\n",
       "      <th>category</th>\n",
       "      <th>parameter</th>\n",
       "      <th>mode</th>\n",
       "      <th>powertrain</th>\n",
       "      <th>unit</th>\n",
       "      <th>value</th>\n",
       "    </tr>\n",
       "  </thead>\n",
       "  <tbody>\n",
       "    <tr>\n",
       "      <th>0</th>\n",
       "      <td>2020</td>\n",
       "      <td>WorldWorld</td>\n",
       "      <td>Projection-STEPSProjection-STEPS</td>\n",
       "      <td>EV charging pointsEV charging points</td>\n",
       "      <td>EVEV</td>\n",
       "      <td>Publicly available fastPublicly available slow</td>\n",
       "      <td>charging pointscharging points</td>\n",
       "      <td>1260000.0</td>\n",
       "    </tr>\n",
       "    <tr>\n",
       "      <th>1</th>\n",
       "      <td>2021</td>\n",
       "      <td>WorldWorld</td>\n",
       "      <td>Projection-STEPSProjection-STEPS</td>\n",
       "      <td>EV charging pointsEV charging points</td>\n",
       "      <td>EVEV</td>\n",
       "      <td>Publicly available fastPublicly available slow</td>\n",
       "      <td>charging pointscharging points</td>\n",
       "      <td>1770000.0</td>\n",
       "    </tr>\n",
       "    <tr>\n",
       "      <th>2</th>\n",
       "      <td>2022</td>\n",
       "      <td>WorldWorld</td>\n",
       "      <td>Projection-STEPSProjection-STEPS</td>\n",
       "      <td>EV charging pointsEV charging points</td>\n",
       "      <td>EVEV</td>\n",
       "      <td>Publicly available fastPublicly available slow</td>\n",
       "      <td>charging pointscharging points</td>\n",
       "      <td>2700000.0</td>\n",
       "    </tr>\n",
       "    <tr>\n",
       "      <th>3</th>\n",
       "      <td>2025</td>\n",
       "      <td>WorldWorld</td>\n",
       "      <td>Projection-STEPSProjection-STEPS</td>\n",
       "      <td>EV charging pointsEV charging points</td>\n",
       "      <td>EVEV</td>\n",
       "      <td>Publicly available fastPublicly available slow</td>\n",
       "      <td>charging pointscharging points</td>\n",
       "      <td>6700000.0</td>\n",
       "    </tr>\n",
       "    <tr>\n",
       "      <th>4</th>\n",
       "      <td>2030</td>\n",
       "      <td>WorldWorld</td>\n",
       "      <td>Projection-STEPSProjection-STEPS</td>\n",
       "      <td>EV charging pointsEV charging points</td>\n",
       "      <td>EVEV</td>\n",
       "      <td>Publicly available fastPublicly available slow</td>\n",
       "      <td>charging pointscharging points</td>\n",
       "      <td>12700000.0</td>\n",
       "    </tr>\n",
       "  </tbody>\n",
       "</table>\n",
       "</div>"
      ],
      "text/plain": [
       "   year      region                          category   \n",
       "0  2020  WorldWorld  Projection-STEPSProjection-STEPS  \\\n",
       "1  2021  WorldWorld  Projection-STEPSProjection-STEPS   \n",
       "2  2022  WorldWorld  Projection-STEPSProjection-STEPS   \n",
       "3  2025  WorldWorld  Projection-STEPSProjection-STEPS   \n",
       "4  2030  WorldWorld  Projection-STEPSProjection-STEPS   \n",
       "\n",
       "                              parameter  mode   \n",
       "0  EV charging pointsEV charging points  EVEV  \\\n",
       "1  EV charging pointsEV charging points  EVEV   \n",
       "2  EV charging pointsEV charging points  EVEV   \n",
       "3  EV charging pointsEV charging points  EVEV   \n",
       "4  EV charging pointsEV charging points  EVEV   \n",
       "\n",
       "                                       powertrain   \n",
       "0  Publicly available fastPublicly available slow  \\\n",
       "1  Publicly available fastPublicly available slow   \n",
       "2  Publicly available fastPublicly available slow   \n",
       "3  Publicly available fastPublicly available slow   \n",
       "4  Publicly available fastPublicly available slow   \n",
       "\n",
       "                             unit       value  \n",
       "0  charging pointscharging points   1260000.0  \n",
       "1  charging pointscharging points   1770000.0  \n",
       "2  charging pointscharging points   2700000.0  \n",
       "3  charging pointscharging points   6700000.0  \n",
       "4  charging pointscharging points  12700000.0  "
      ]
     },
     "execution_count": 26,
     "metadata": {},
     "output_type": "execute_result"
    }
   ],
   "source": [
    "charge=charg.groupby('year').sum()\n",
    "charge.reset_index(inplace=True)\n",
    "charge"
   ]
  },
  {
   "cell_type": "code",
   "execution_count": 28,
   "id": "0540b261-9f7a-40d6-a332-16b349a9552d",
   "metadata": {},
   "outputs": [
    {
     "data": {
      "image/png": "[encoded data removed]",
      "text/plain": [
       "<Figure size 640x480 with 1 Axes>"
      ]
     },
     "metadata": {},
     "output_type": "display_data"
    }
   ],
   "source": [
    "plt.title(\"Charging Point Avability\")\n",
    "plt.scatter(\"year\",\"value\",data=charge)\n",
    "plt.show()"
   ]
  },
  {
   "cell_type": "code",
   "execution_count": null,
   "id": "0567822d-9d56-456f-bc7d-9e6762d1622e",
   "metadata": {},
   "outputs": [],
   "source": []
  }
 ],
 "metadata": {
  "kernelspec": {
   "display_name": "Python 3 (ipykernel)",
   "language": "python",
   "name": "python3"
  },
  "language_info": {
   "codemirror_mode": {
    "name": "ipython",
    "version": 3
   },
   "file_extension": ".py",
   "mimetype": "text/x-python",
   "name": "python",
   "nbconvert_exporter": "python",
   "pygments_lexer": "ipython3",
   "version": "3.10.9"
  }
 },
 "nbformat": 4,
 "nbformat_minor": 5
}
